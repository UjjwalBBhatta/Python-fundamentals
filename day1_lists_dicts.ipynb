{
 "cells": [
  {
   "cell_type": "code",
   "execution_count": 3,
   "id": "6baa2400-ed9c-41af-a31f-9b84a74e41fb",
   "metadata": {},
   "outputs": [
    {
     "name": "stdout",
     "output_type": "stream",
     "text": [
      "Aayush avg is: 87.5\n",
      "Sita avg is: 89.5\n",
      "Kiran avg is: 77.5\n"
     ]
    }
   ],
   "source": [
    "students = {\n",
    "    \"Aayush\": {\"math\": 90, \"science\": 85},\n",
    "    \"Sita\": {\"math\": 88, \"science\": 91},\n",
    "    \"Kiran\": {\"math\": 75, \"science\": 80}\n",
    "}\n",
    "for name, marks in students.items():\n",
    "    avg = sum(marks.values())/len(marks)\n",
    "    print(f\"{name} avg is: {avg}\")\n",
    "    "
   ]
  },
  {
   "cell_type": "code",
   "execution_count": 5,
   "id": "2b387abe-d6bb-4dc7-a46d-82e8b2b7af32",
   "metadata": {},
   "outputs": [],
   "source": [
    "for name in students.keys():\n",
    "    students[name][\"english\"] = 0"
   ]
  },
  {
   "cell_type": "code",
   "execution_count": 6,
   "id": "5a4ebd0b-6008-4de8-a696-0084c31437e8",
   "metadata": {},
   "outputs": [
    {
     "name": "stdout",
     "output_type": "stream",
     "text": [
      "{'Aayush': {'math': 90, 'science': 85, 'english': 0}, 'Sita': {'math': 88, 'science': 91, 'english': 0}, 'Kiran': {'math': 75, 'science': 80, 'english': 0}}\n"
     ]
    }
   ],
   "source": [
    "print(students)"
   ]
  },
  {
   "cell_type": "code",
   "execution_count": 13,
   "id": "46283ccd-4324-4be8-ae6d-6ffc0f910c24",
   "metadata": {},
   "outputs": [
    {
     "name": "stdout",
     "output_type": "stream",
     "text": [
      "Top scoring student is Sita with 179 total marks.\n"
     ]
    }
   ],
   "source": [
    "top_student = None\n",
    "highest_total = 0\n",
    "for name, marks in students.items():\n",
    "    total = sum(marks.values())\n",
    "    if total > highest_total:\n",
    "        highest_total = total\n",
    "        top_student = name\n",
    "\n",
    "print(f\"Top scoring student is {top_student} with {highest_total} total marks.\")"
   ]
  },
  {
   "cell_type": "code",
   "execution_count": 15,
   "id": "b009f332-7956-4da2-a725-357c647de6a9",
   "metadata": {},
   "outputs": [
    {
     "name": "stdout",
     "output_type": "stream",
     "text": [
      "Aayush has a total marks of 175\n",
      "Sita has a total marks of 179\n",
      "Kiran has a total marks of 155\n"
     ]
    }
   ],
   "source": [
    "for name, marks in students.items():\n",
    "    total = sum(marks.values())\n",
    "    print(f\"{name} has a total marks of {total}\")"
   ]
  },
  {
   "cell_type": "code",
   "execution_count": 19,
   "id": "893005ab-dd2a-4171-82b2-b4ffac73414c",
   "metadata": {},
   "outputs": [
    {
     "name": "stdout",
     "output_type": "stream",
     "text": [
      "Kiran is the lowest scoring student with 155 marks.\n"
     ]
    }
   ],
   "source": [
    "lowest_total = 200\n",
    "lowest_student = None\n",
    "for name, marks in students.items():\n",
    "    total = sum(marks.values())\n",
    "    if total < lowest_total:\n",
    "        lowest_total = total\n",
    "        lowest_student = name\n",
    "print(f\"{lowest_student} is the lowest scoring student with {lowest_total} marks.\")"
   ]
  },
  {
   "cell_type": "code",
   "execution_count": 18,
   "id": "95be968f-d0d1-4058-be29-80dc61efbecf",
   "metadata": {},
   "outputs": [
    {
     "name": "stdout",
     "output_type": "stream",
     "text": [
      "The avg score of Aayush is 58.333333333333336\n",
      "The avg score of Sita is 59.666666666666664\n",
      "The avg score of Kiran is 51.666666666666664\n"
     ]
    }
   ],
   "source": [
    "for name, marks in students.items():\n",
    "    avg = sum(marks.values())/len(marks)\n",
    "    print(f\"The avg score of {name} is {avg}\")"
   ]
  },
  {
   "cell_type": "code",
   "execution_count": null,
   "id": "236140e8-2d35-4be3-813a-b16d430d578e",
   "metadata": {},
   "outputs": [],
   "source": []
  }
 ],
 "metadata": {
  "kernelspec": {
   "display_name": "Python [conda env:base] *",
   "language": "python",
   "name": "conda-base-py"
  },
  "language_info": {
   "codemirror_mode": {
    "name": "ipython",
    "version": 3
   },
   "file_extension": ".py",
   "mimetype": "text/x-python",
   "name": "python",
   "nbconvert_exporter": "python",
   "pygments_lexer": "ipython3",
   "version": "3.13.5"
  }
 },
 "nbformat": 4,
 "nbformat_minor": 5
}
