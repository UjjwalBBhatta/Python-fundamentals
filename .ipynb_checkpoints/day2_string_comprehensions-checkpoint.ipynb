{
 "cells": [
  {
   "cell_type": "code",
   "execution_count": 1,
   "id": "5367c89f-d6aa-4ecc-916f-a6008514f647",
   "metadata": {},
   "outputs": [
    {
     "data": {
      "text/plain": [
       "'.lower(), .upper() → case change\\n\\n.strip() → remove whitespace front/back\\n\\n.split() → string → list of tokens (default splits on whitespace)\\n\\n\\'sep\\'.join(list) → join list into string\\n\\n.replace(old, new) → replace substrings\\n\\ns[::-1] → reverse string\\n\\nf-strings: f\"{var} text {expr}\"\\n\\ncomprehension patterns:\\n\\nlist: [expr for x in seq if cond]\\n\\ndict: {k: v for k, v in pairs}\\n\\nset: {expr for x in seq}'"
      ]
     },
     "execution_count": 1,
     "metadata": {},
     "output_type": "execute_result"
    }
   ],
   "source": [
    "\"\"\".lower(), .upper() → case change\n",
    "\n",
    ".strip() → remove whitespace front/back\n",
    "\n",
    ".split() → string → list of tokens (default splits on whitespace)\n",
    "\n",
    "'sep'.join(list) → join list into string\n",
    "\n",
    ".replace(old, new) → replace substrings\n",
    "\n",
    "s[::-1] → reverse string\n",
    "\n",
    "f-strings: f\"{var} text {expr}\"\n",
    "\n",
    "comprehension patterns:\n",
    "\n",
    "list: [expr for x in seq if cond]\n",
    "\n",
    "dict: {k: v for k, v in pairs}\n",
    "\n",
    "set: {expr for x in seq}\"\"\""
   ]
  },
  {
   "cell_type": "code",
   "execution_count": 6,
   "id": "b3e5f9a9-f40d-4e08-bd98-daaf6aa35071",
   "metadata": {},
   "outputs": [
    {
     "name": "stdout",
     "output_type": "stream",
     "text": [
      "True\n"
     ]
    }
   ],
   "source": [
    "#Palindrome checker\n",
    "\"\"\"The code will first convert all strings to lower case\n",
    "    and then remove all the spaces, then reverses the string and\n",
    "    then compares to original string(stripped and lcase), and returns\n",
    "    either true or false\"\"\"\n",
    "def is_Palindrome(word: str) ->bool:\n",
    "    reverse = (word.lower()).strip() #Strips of space and also lower case\n",
    "    reverse = reverse[::-1]\n",
    "    if reverse == (word.lower()).strip():\n",
    "        return True\n",
    "    else:\n",
    "        return False\n",
    "print(is_Palindrome(\"Racecar\"))\n"
   ]
  },
  {
   "cell_type": "code",
   "execution_count": 10,
   "id": "3e200a4c-a3b4-4ae3-9fc5-02418831fe9b",
   "metadata": {},
   "outputs": [
    {
     "name": "stdin",
     "output_type": "stream",
     "text": [
      "Enter the text:  The code needs to first split and lowercase the whole text into  a list of which the words are counted for the repetion and a dictionary is to be made with each words and the number of time they appear, we  can add a search feature which checks the dictionary for a specific word and how many times it appears\n"
     ]
    },
    {
     "name": "stdout",
     "output_type": "stream",
     "text": [
      "{'specific': 1, 'we': 1, 'word': 1, 'appears': 1, 'needs': 1, 'how': 1, 'made': 1, 'add': 1, 'list': 1, 'each': 1, 'lowercase': 1, 'search': 1, 'many': 1, 'counted': 1, 'text': 1, 'number': 1, 'checks': 1, 'for': 2, 'are': 1, 'time': 1, 'a': 4, 'with': 1, 'can': 1, 'into': 1, 'appear,': 1, 'be': 1, 'words': 2, 'first': 1, 'they': 1, 'feature': 1, 'code': 1, 'it': 1, 'dictionary': 2, 'repetion': 1, 'the': 6, 'to': 2, 'is': 1, 'split': 1, 'of': 2, 'whole': 1, 'times': 1, 'which': 2, 'and': 4}\n"
     ]
    },
    {
     "name": "stdin",
     "output_type": "stream",
     "text": [
      "Enter a word to searchL: the\n"
     ]
    },
    {
     "name": "stdout",
     "output_type": "stream",
     "text": [
      "The word the appears 6 times.\n"
     ]
    }
   ],
   "source": [
    "#Word counter\n",
    "\"\"\"The code needs to first split and lowercase the whole text into \n",
    "a list of which the words are counted for the repetion and a dictionary\n",
    "is to be made with each words and the number of time they appear, we \n",
    "can add a search feature which checks the dictionary for a specific word\n",
    "and how many times it appears\"\"\"\n",
    "def word_count(text: str) -> dict:\n",
    "    words = (text.lower()).split()\n",
    "    countWord = {word: words.count(word) for word in set(words)}\n",
    "    return countWord\n",
    "text = input(\"Enter the text: \" )\n",
    "result = word_count(text)\n",
    "print(result)\n",
    "def searchCount(word: str) -> int:\n",
    "    return result.get(word.lower(),0)\n",
    "query = input(\"Enter a word to search:\" )\n",
    "count = searchCount(query)\n",
    "print(f\"The word {query} appears {count} times.\")"
   ]
  },
  {
   "cell_type": "code",
   "execution_count": 14,
   "id": "3a17b2a0-7b3c-4034-a98a-19c9f50fd375",
   "metadata": {},
   "outputs": [
    {
     "name": "stdin",
     "output_type": "stream",
     "text": [
      "Enter the word u need the acronym of United States of America\n"
     ]
    },
    {
     "name": "stdout",
     "output_type": "stream",
     "text": [
      "The acronym for the text United States of America is USA\n"
     ]
    }
   ],
   "source": [
    "#Acroname generator\n",
    "def get_Acroname(text: str) -> str:\n",
    "    \"\"\"So first of all it will split the text word by word and\n",
    "    then check wether the word is a non acronym word like, \"of\"\n",
    "    if so it will skip it and if not it will select the first letter\n",
    "    from the word and then add it in a result variable and the result\n",
    "    variable is to be in upper case\"\"\"\n",
    "    acronym_stopwords = [\n",
    "    \"a\", \"an\", \"and\", \"as\", \"at\", \"but\", \"by\", \"for\", \"from\", \"in\",\n",
    "    \"into\", \"near\", \"nor\", \"of\", \"off\", \"on\", \"onto\", \"or\", \"over\",\n",
    "    \"per\", \"since\", \"than\", \"the\", \"to\", \"up\", \"upon\", \"via\", \"with\",\n",
    "    \"without\", \"is\", \"are\", \"was\", \"were\", \"be\", \"been\", \"being\"\n",
    "]\n",
    "    result = \"\"\n",
    "    words = text.split()\n",
    "    for word in words:\n",
    "        if word.lower() not in acronym_stopwords:\n",
    "            result += word[0]\n",
    "        else:\n",
    "            continue\n",
    "    return result\n",
    "text = input(\"Enter the word u need the acronym of\")\n",
    "print(f\"The acronym for the text {text} is {get_Acroname(text)}\")"
   ]
  },
  {
   "cell_type": "code",
   "execution_count": null,
   "id": "46b839cf-ef11-4052-96e4-4af2b6111f80",
   "metadata": {},
   "outputs": [],
   "source": []
  }
 ],
 "metadata": {
  "kernelspec": {
   "display_name": "Python [conda env:base] *",
   "language": "python",
   "name": "conda-base-py"
  },
  "language_info": {
   "codemirror_mode": {
    "name": "ipython",
    "version": 3
   },
   "file_extension": ".py",
   "mimetype": "text/x-python",
   "name": "python",
   "nbconvert_exporter": "python",
   "pygments_lexer": "ipython3",
   "version": "3.13.5"
  }
 },
 "nbformat": 4,
 "nbformat_minor": 5
}
