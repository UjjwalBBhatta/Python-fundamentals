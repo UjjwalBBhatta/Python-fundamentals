{
 "cells": [
  {
   "cell_type": "code",
   "execution_count": 7,
   "id": "19af4315-5c00-4785-9ecb-922d69e50ae5",
   "metadata": {},
   "outputs": [
    {
     "name": "stdin",
     "output_type": "stream",
     "text": [
      "Enter an integer:  -0\n"
     ]
    },
    {
     "name": "stdout",
     "output_type": "stream",
     "text": [
      "The number is Zero.\n"
     ]
    }
   ],
   "source": [
    "#even or odd checker\n",
    "def evenorodd(num: int) -> str:\n",
    "    if num == 0:\n",
    "        return \"Zero\"\n",
    "    elif num > 0:\n",
    "        return \"Positive and Even\" if num % 2 == 0 else \"Positive and Odd\"\n",
    "    else:\n",
    "        return \"Negative and Even\" if num % 2 == 0 else \"Negative and Odd\"\n",
    "\n",
    "try:\n",
    "    num = int(input(\"Enter an integer: \"))\n",
    "    print(f\"The number is {evenorodd(num)}.\")\n",
    "except ValueError:\n",
    "    print(\"That's not a valid integer.\")\n",
    "\n",
    "    "
   ]
  },
  {
   "cell_type": "code",
   "execution_count": 29,
   "id": "59a49193-6e9b-4ba3-8ff4-6f7757b7ac85",
   "metadata": {},
   "outputs": [
    {
     "name": "stdout",
     "output_type": "stream",
     "text": [
      "The square of 1 is 1\n",
      "The square of 2 is 4\n",
      "The square of 3 is 9\n",
      "The square of 4 is 16\n",
      "The square of 5 is 25\n",
      "The square of 6 is 36\n",
      "The square of 7 is 49\n",
      "The square of 8 is 64\n",
      "The square of 9 is 81\n",
      "The square of 10 is 100\n"
     ]
    }
   ],
   "source": [
    "# a loop that prints the squares of numbers using for loop\n",
    "for num in range(1, 11):\n",
    "    print(f\"The square of {num} is {num**2}\")\n",
    "        "
   ]
  },
  {
   "cell_type": "code",
   "execution_count": 11,
   "id": "ad80c79f-c2b8-431e-b627-3a80890e1bb9",
   "metadata": {},
   "outputs": [
    {
     "name": "stdout",
     "output_type": "stream",
     "text": [
      "The square of 1 is 1\n",
      "The square of 2 is 4\n",
      "The square of 3 is 9\n",
      "The square of 4 is 16\n",
      "The square of 5 is 25\n",
      "The square of 6 is 36\n",
      "The square of 7 is 49\n",
      "The square of 8 is 64\n",
      "The square of 9 is 81\n",
      "The square of 10 is 100\n"
     ]
    }
   ],
   "source": [
    "# same loop but wiht while loop\n",
    "num = 1\n",
    "while num <= 10:\n",
    "    print(f\"The square of {num} is {num**2}\")\n",
    "    num+=1"
   ]
  },
  {
   "cell_type": "code",
   "execution_count": 20,
   "id": "5305e3c7-8ab8-46da-b2c4-b305a782bba4",
   "metadata": {},
   "outputs": [
    {
     "name": "stdin",
     "output_type": "stream",
     "text": [
      "Enter a list of numbers(seperate by space) 2 3 4 5 6\n"
     ]
    },
    {
     "name": "stdout",
     "output_type": "stream",
     "text": [
      "In [2.0, 3.0, 4.0, 5.0, 6.0] the largest number is 6.0, smallest num is 2.0 and average is 4.0.\n"
     ]
    }
   ],
   "source": [
    "#list analyzer\n",
    "def listAnalyzer(nums: list) -> str:\n",
    "    largest_num = max(nums)\n",
    "    smallest_num = min(nums)\n",
    "    avg = sum(nums)/len(nums)\n",
    "    return f\"In {nums} the largest number is {largest_num}, smallest number is {smallest_num} and average is {avg}.\"\n",
    "try:\n",
    "    nums = [float(n) for n in input(\"Enter a list of numbers(seperate by space)\").split()]\n",
    "    print(listAnalyzer(nums))\n",
    "except ValueError:\n",
    "    print(\"Input valid Integers only\")"
   ]
  },
  {
   "cell_type": "code",
   "execution_count": null,
   "id": "e7aa8635-850e-45e6-8e6c-caf372893bee",
   "metadata": {},
   "outputs": [],
   "source": [
    "#list checker\n",
    "def listChecker(nums: list) -> str:\n",
    "    for num in nums:\n",
    "        if not isinstance(num, int):\n",
    "            return f\"{num} is not a number\"\n",
    "    return f\"Ïn {nums} all the numbers are integers\"\n",
    "try:\n",
    "    nums = [int(n) for n in input(\"Enter a list of numbers(seperate by space)\").split()]\n",
    "    print(listChecker(nums))\n",
    "except ValueError:\n",
    "    print(\"Input valid Integers only\")"
   ]
  },
  {
   "cell_type": "code",
   "execution_count": 28,
   "id": "3cfada09-2301-4216-8294-a0dfb2c4db4d",
   "metadata": {},
   "outputs": [
    {
     "name": "stdout",
     "output_type": "stream",
     "text": [
      "\n",
      "✅ All tests passed successfully!\n"
     ]
    }
   ],
   "source": [
    "# --- Unit Tests ---\n",
    "assert evenorodd(4) == \"Positive and Even\"\n",
    "assert evenorodd(-3) == \"Negative and Odd\"\n",
    "assert listAnalyzer([2, 4, 6]) == \"In [2, 4, 6] the largest number is 6, smallest num is 2 and average is 4.0.\"\n",
    "print(\"\\n✅ All the tests have passed\")\n"
   ]
  },
  {
   "cell_type": "code",
   "execution_count": null,
   "id": "2983accc-2403-4861-a789-91ac23bca90e",
   "metadata": {},
   "outputs": [],
   "source": []
  }
 ],
 "metadata": {
  "kernelspec": {
   "display_name": "Python [conda env:base] *",
   "language": "python",
   "name": "conda-base-py"
  },
  "language_info": {
   "codemirror_mode": {
    "name": "ipython",
    "version": 3
   },
   "file_extension": ".py",
   "mimetype": "text/x-python",
   "name": "python",
   "nbconvert_exporter": "python",
   "pygments_lexer": "ipython3",
   "version": "3.13.5"
  }
 },
 "nbformat": 4,
 "nbformat_minor": 5
}
