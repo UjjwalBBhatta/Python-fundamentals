{
 "cells": [
  {
   "cell_type": "code",
   "execution_count": 2,
   "id": "c387801b-5f2c-459a-a721-badff2dbb8ef",
   "metadata": {},
   "outputs": [
    {
     "name": "stdin",
     "output_type": "stream",
     "text": [
      "Enter a number:  t\n"
     ]
    },
    {
     "name": "stdout",
     "output_type": "stream",
     "text": [
      "Input a valid integer\n"
     ]
    }
   ],
   "source": [
    "# a basic function to calculate the square of a number\n",
    "def square_num(num: int) -> int:\n",
    "    return num**2\n",
    "# added exception handling cause why not lol\n",
    "try:\n",
    "    num = float(input(\"Enter a number: \"))\n",
    "    print(f\"The square of {num} is {square_num(num)}\")\n",
    "except ValueError:\n",
    "    print(\"Input a valid number\")\n",
    "    "
   ]
  },
  {
   "cell_type": "code",
   "execution_count": 5,
   "id": "b8e37d01-9541-4908-896d-a15a615d4a30",
   "metadata": {},
   "outputs": [
    {
     "name": "stdin",
     "output_type": "stream",
     "text": [
      "Enter your name:  ujjwal\n"
     ]
    },
    {
     "data": {
      "text/plain": [
       "'Welcome ujjwal'"
      ]
     },
     "execution_count": 5,
     "metadata": {},
     "output_type": "execute_result"
    }
   ],
   "source": [
    "# idk why this is for day 5 but a function to greet people\n",
    "def greet(name: str) -> str:\n",
    "    return f\"Hello {name} you are very welcome here.\"\n",
    "name = input(\"Enter your name: \")\n",
    "print(greet(name))\n",
    "\n",
    "#lets do one a bit diff lmao\n",
    "def greet_user(name: str, msg: str = \"Welcome\") ->str:\n",
    "    return f\"{msg} {name}\"\n",
    "print(greet_user(name))\n",
    "    "
   ]
  },
  {
   "cell_type": "code",
   "execution_count": 16,
   "id": "ac20fd33-ce70-4442-a92c-174c29075865",
   "metadata": {},
   "outputs": [
    {
     "name": "stdin",
     "output_type": "stream",
     "text": [
      "Enter a list of numbers seperated by space 1 2 3 4\n"
     ]
    },
    {
     "name": "stdout",
     "output_type": "stream",
     "text": [
      "The original list is [1, 2, 3, 4]\n",
      "The list of the numbers squared is [1, 4, 9, 16]\n",
      "The nums greater than 4 are [4, 9, 16]\n"
     ]
    }
   ],
   "source": [
    "# so this one is kinda random, just for lambda practise\n",
    "try:\n",
    "    numList = [int(x) for x in input(\"Enter a list of numbers seperated by space\").split()]\n",
    "    print(f\"The original list is {numList}\")\n",
    "except ValueError:\n",
    "    print(\"Input valid integers\")\n",
    "square = lambda x: x**2\n",
    "sq_nums = list(map(square, numList))\n",
    "print(f\"The list of the numbers squared is {sq_nums}\")\n",
    "num_check = lambda d: d>=4\n",
    "sq_num_i = list(filter(num_check, sq_nums))\n",
    "print(f\"The nums greater than 4 are {sq_num_i}\")\n",
    "\n",
    "    "
   ]
  },
  {
   "cell_type": "code",
   "execution_count": 17,
   "id": "3ab75a1c-3d15-47bd-88b2-0732dfe02aa6",
   "metadata": {},
   "outputs": [
    {
     "name": "stdin",
     "output_type": "stream",
     "text": [
      "Enter a list of numbers seperated by space 2 3 4 5\n"
     ]
    },
    {
     "name": "stdout",
     "output_type": "stream",
     "text": [
      "The original list is [2, 3, 4, 5]\n"
     ]
    },
    {
     "name": "stdin",
     "output_type": "stream",
     "text": [
      "Please input what you want to be done(sq, dbl, tri:  dbl\n"
     ]
    },
    {
     "name": "stdout",
     "output_type": "stream",
     "text": [
      "\n",
      "Processed list (dbl): [4, 6, 8, 10]\n",
      "The sum of the processed list is Even.\n"
     ]
    }
   ],
   "source": [
    "# so we gonna do some higher order functions\n",
    "# the task was to just create a simple function but i wanna be a bit cool lmao\n",
    "def process_numbers(nums: list , func) -> list:\n",
    "    \"\"\"So it will just do the operation thats gonna be applied to it.\"\"\"\n",
    "    return [func(x) for x in nums]\n",
    "\n",
    "def sum_odd_even_check(nums: list) -> str:\n",
    "    \"\"\"So it will check wether the sum of the list is even or odd\"\"\"\n",
    "    val = sum(nums)\n",
    "    return \"Even\" if val%2 == 0 else \"Odd\"\n",
    "    \n",
    "#Making some functions\n",
    "sq_nums = lambda x: x**2\n",
    "double_nums = lambda x: x*2\n",
    "triple_nums = lambda x: x*3\n",
    "# we are gonna make a dictonary of possible user inputs and map them to functions\n",
    "user_input = {\n",
    "    \"square\": sq_nums,\n",
    "    \"sq\": sq_nums,\n",
    "    \"double\": double_nums,\n",
    "    \"dbl\": double_nums,\n",
    "    \"triple\": triple_nums,\n",
    "    \"tri\": triple_nums\n",
    "}\n",
    "\n",
    "try:      \n",
    "    # we are doing exception handling for the list\n",
    "    numList = [int(x) for x in input(\"Enter a list of numbers seperated by space\").split()]\n",
    "    print(f\"The original list is {numList}\")\n",
    "    # now operation is to be inputted\n",
    "    operation = input(\"Please input what you want to be done(sq, dbl, tri): \").strip().lower()\n",
    "    if operation in user_input:\n",
    "        # Now gonna assign operation \n",
    "        processed = process_numbers(numList, user_input[operation])\n",
    "        print(f\"\\nProcessed list ({operation}): {processed}\")\n",
    "\n",
    "        # Check if sum of processed list is odd or even\n",
    "        parity = sum_odd_even_check(processed)\n",
    "        print(f\"The sum of the processed list is {parity}.\")\n",
    "    else:\n",
    "        print(\"Invalid operation! Try 'sq', 'dbl', or 'tri'.\")\n",
    "    \n",
    "except ValueError:\n",
    "    print(\"Input only integers separated by space\")\n",
    "\n",
    "    \n"
   ]
  },
  {
   "cell_type": "code",
   "execution_count": null,
   "id": "7ea13917-65d5-4135-8a53-b06836894cf8",
   "metadata": {},
   "outputs": [],
   "source": []
  }
 ],
 "metadata": {
  "kernelspec": {
   "display_name": "Python [conda env:base] *",
   "language": "python",
   "name": "conda-base-py"
  },
  "language_info": {
   "codemirror_mode": {
    "name": "ipython",
    "version": 3
   },
   "file_extension": ".py",
   "mimetype": "text/x-python",
   "name": "python",
   "nbconvert_exporter": "python",
   "pygments_lexer": "ipython3",
   "version": "3.13.5"
  }
 },
 "nbformat": 4,
 "nbformat_minor": 5
}
