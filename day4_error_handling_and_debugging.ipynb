{
 "cells": [
  {
   "cell_type": "code",
   "execution_count": 7,
   "id": "b96483eb-43f7-41b6-82c2-91923b5e8fe1",
   "metadata": {},
   "outputs": [
    {
     "name": "stdin",
     "output_type": "stream",
     "text": [
      "Enter a valid number except zero:  ik\n"
     ]
    },
    {
     "name": "stdout",
     "output_type": "stream",
     "text": [
      "Invalid input: Please enter a number.\n"
     ]
    }
   ],
   "source": [
    "#Robust input program\n",
    "\"\"\"Ask user for input in numbers(int or float), it should handle zero and invalid input,\n",
    "logs errors to errors.log and if no error occurs prints success\"\"\"\n",
    "\n",
    "import logging\n",
    "\n",
    "logging.basicConfig(\n",
    "    filename = \"errors.log\",\n",
    "    level = logging.ERROR,\n",
    "    format = \"%(asctime)s - %(levelname)s - %(message)s\"\n",
    ")\n",
    "\n",
    "class InvalidInput(Exception):\n",
    "    \"Raised when input is invalid\"\n",
    "    pass\n",
    "\n",
    "def check_num(value):     #A function to check wether input is non zero\n",
    "    \"\"\"Check if the input is a valid nonzero number\"\"\"\n",
    "    if value == 0:\n",
    "        raise InvalidInput(\"Zero is not allowed.\")\n",
    "    return value\n",
    "try:\n",
    "    user_input = input(\"Enter a valid number except zero: \")\n",
    "    num = float(user_input)  # Convert it to float\n",
    "    check_num(num)\n",
    "except ValueError as e:   # Conversion errors will be flagged here (The float() conversion one)\n",
    "    logging.error(\"ValueError: Non-numeric input provided. %s\", e)\n",
    "    print(\"Invalid input: Please enter a number.\")\n",
    "except InvalidInput as e:   # Our custom error for when input is zero\n",
    "    logging.error(\"InvalidInput: %s\", e)\n",
    "    print(e)\n",
    "except Exception as e:    #Other random ahh errors\n",
    "    logging.error(\"Unexpected error: %s\", e)\n",
    "    print(\"An unexpected error occurred.\")\n",
    "else:\n",
    "    print(\"Successful input!\")\n",
    "    \n"
   ]
  },
  {
   "cell_type": "code",
   "execution_count": 12,
   "id": "edb2c68d-8f7c-4a21-8ed5-2b0af6f63f3a",
   "metadata": {},
   "outputs": [
    {
     "name": "stdin",
     "output_type": "stream",
     "text": [
      "Enter a number:  e\n"
     ]
    },
    {
     "name": "stdout",
     "output_type": "stream",
     "text": [
      "Enter a valid number\n"
     ]
    }
   ],
   "source": [
    "#A custom class exercise, lmao i allready did it in the previous one but oh well\n",
    "class ToolargeNumber(Exception):\n",
    "    \"Raised when a number is greater than 100\"\n",
    "    pass\n",
    "def checkNum(value):\n",
    "    if value > 100:\n",
    "        raise ToolargeNumber(\"The number is too big, we need numbers smaller than 100\")\n",
    "    return value\n",
    "try:\n",
    "    user_inp = input(\"Enter a number: \")\n",
    "    num = float(user_inp)\n",
    "    checkNum(num)\n",
    "except ToolargeNumber as e:\n",
    "    print(e)\n",
    "except ValueError:\n",
    "    print(\"Enter a valid number\")\n",
    "except Exception as e:\n",
    "    print(\"Unexpected error\")\n",
    "else:\n",
    "    print(\"Successful input\")"
   ]
  },
  {
   "cell_type": "code",
   "execution_count": 21,
   "id": "be34a2ee-98bd-43de-8ca3-d158ce96e35c",
   "metadata": {},
   "outputs": [
    {
     "name": "stdin",
     "output_type": "stream",
     "text": [
      "Enter a list of numbers seperated by a space: 1 2 3 r\n"
     ]
    },
    {
     "name": "stdout",
     "output_type": "stream",
     "text": [
      "Enter valid integers in the list\n"
     ]
    }
   ],
   "source": [
    "#debugging practise\n",
    "\"\"\"So originally the code had a divide by zero error and we imported pdb and then ran pdb.set_trace() to\n",
    "find the error and fixed it now it works\"\"\"\n",
    "def average(nums):\n",
    "    total = sum(nums)\n",
    "    avg = total / len(nums)\n",
    "    return avg\n",
    "try:\n",
    "    nums = [float(x) for x in input(\"Enter a list of numbers seperated by a space:\").split()]\n",
    "    print(average(nums))\n",
    "except ValueError:\n",
    "    print(\"Enter valid integers in the list\")\n",
    "  \n"
   ]
  },
  {
   "cell_type": "code",
   "execution_count": 22,
   "id": "c9c8e439-33c5-4803-b151-e7ee919f1fb5",
   "metadata": {},
   "outputs": [
    {
     "name": "stdout",
     "output_type": "stream",
     "text": [
      "Custom exception triggered correctly\n"
     ]
    }
   ],
   "source": [
    "# Basic asserts to check error handling\n",
    "assert checkNum(50) == 50\n",
    "try:\n",
    "    checkNum(150)\n",
    "except ToolargeNumber:\n",
    "    print(\"Custom exception triggered correctly\")\n"
   ]
  },
  {
   "cell_type": "code",
   "execution_count": null,
   "id": "716d208e-44ff-4a77-80f6-87ea167ba22d",
   "metadata": {},
   "outputs": [],
   "source": []
  }
 ],
 "metadata": {
  "kernelspec": {
   "display_name": "Python [conda env:base] *",
   "language": "python",
   "name": "conda-base-py"
  },
  "language_info": {
   "codemirror_mode": {
    "name": "ipython",
    "version": 3
   },
   "file_extension": ".py",
   "mimetype": "text/x-python",
   "name": "python",
   "nbconvert_exporter": "python",
   "pygments_lexer": "ipython3",
   "version": "3.13.5"
  }
 },
 "nbformat": 4,
 "nbformat_minor": 5
}
